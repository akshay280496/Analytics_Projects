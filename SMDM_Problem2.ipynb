{
 "cells": [
  {
   "cell_type": "code",
   "execution_count": 1,
   "id": "environmental-mobile",
   "metadata": {},
   "outputs": [
    {
     "data": {
      "text/html": [
       "'D:/BABI/SMDM/Group-Assignment/Problem1'"
      ],
      "text/latex": [
       "'D:/BABI/SMDM/Group-Assignment/Problem1'"
      ],
      "text/markdown": [
       "'D:/BABI/SMDM/Group-Assignment/Problem1'"
      ],
      "text/plain": [
       "[1] \"D:/BABI/SMDM/Group-Assignment/Problem1\""
      ]
     },
     "metadata": {},
     "output_type": "display_data"
    }
   ],
   "source": [
    "setwd(\"D:/BABI/SMDM/Group-Assignment/Problem1\")\n",
    "getwd()"
   ]
  },
  {
   "cell_type": "code",
   "execution_count": 2,
   "id": "valid-carbon",
   "metadata": {},
   "outputs": [
    {
     "data": {
      "text/plain": [
       "   Min. 1st Qu.  Median    Mean 3rd Qu.    Max. \n",
       "  3.800   3.900   3.900   3.974   4.100   4.600 "
      ]
     },
     "metadata": {},
     "output_type": "display_data"
    }
   ],
   "source": [
    "df_march <- read.csv(\"K2_Cold_Storage_Mar2018.csv\")\n",
    "\n",
    "summary(df_march$Temperature)"
   ]
  },
  {
   "cell_type": "code",
   "execution_count": 3,
   "id": "closed-dress",
   "metadata": {},
   "outputs": [
    {
     "data": {
      "text/html": [
       "0.159674037712233"
      ],
      "text/latex": [
       "0.159674037712233"
      ],
      "text/markdown": [
       "0.159674037712233"
      ],
      "text/plain": [
       "[1] 0.159674"
      ]
     },
     "metadata": {},
     "output_type": "display_data"
    }
   ],
   "source": [
    "sd(df_march$Temperature)"
   ]
  },
  {
   "cell_type": "markdown",
   "id": "basic-habitat",
   "metadata": {},
   "source": [
    "“t-Test” for hypothesis is suitable to check whether corrective action needs to be taken or not in the cold storage as the population SD (S) is not known and assuming the population is normally distributed. Also, the values are continuous as it varies day to day."
   ]
  },
  {
   "cell_type": "code",
   "execution_count": 4,
   "id": "gorgeous-milan",
   "metadata": {},
   "outputs": [
    {
     "data": {
      "text/html": [
       "1.2815515655446"
      ],
      "text/latex": [
       "1.2815515655446"
      ],
      "text/markdown": [
       "1.2815515655446"
      ],
      "text/plain": [
       "[1] 1.281552"
      ]
     },
     "metadata": {},
     "output_type": "display_data"
    },
    {
     "data": {
      "text/html": [
       "1.30695158712643"
      ],
      "text/latex": [
       "1.30695158712643"
      ],
      "text/markdown": [
       "1.30695158712643"
      ],
      "text/plain": [
       "[1] 1.306952"
      ]
     },
     "metadata": {},
     "output_type": "display_data"
    }
   ],
   "source": [
    "qnorm(0.9)\n",
    "qt(0.9, 34)"
   ]
  },
  {
   "cell_type": "code",
   "execution_count": 5,
   "id": "considerable-integer",
   "metadata": {},
   "outputs": [
    {
     "name": "stdout",
     "output_type": "stream",
     "text": [
      "[1] 2.741773\n"
     ]
    }
   ],
   "source": [
    "tstat <- (3.974-3.9)/(0.159674/sqrt(35))\n",
    "print(tstat)"
   ]
  },
  {
   "cell_type": "code",
   "execution_count": 6,
   "id": "convertible-flexibility",
   "metadata": {},
   "outputs": [
    {
     "data": {
      "text/html": [
       "0.00483679604169025"
      ],
      "text/latex": [
       "0.00483679604169025"
      ],
      "text/markdown": [
       "0.00483679604169025"
      ],
      "text/plain": [
       "[1] 0.004836796"
      ]
     },
     "metadata": {},
     "output_type": "display_data"
    }
   ],
   "source": [
    "pt(tstat, 34, lower.tail = FALSE)"
   ]
  },
  {
   "cell_type": "code",
   "execution_count": 7,
   "id": "sustainable-double",
   "metadata": {},
   "outputs": [
    {
     "data": {
      "text/plain": [
       "\n",
       "\tOne Sample t-test\n",
       "\n",
       "data:  df_march$Temperature\n",
       "t = 2.7524, df = 34, p-value = 0.004711\n",
       "alternative hypothesis: true mean is greater than 3.9\n",
       "90 percent confidence interval:\n",
       " 3.939011      Inf\n",
       "sample estimates:\n",
       "mean of x \n",
       " 3.974286 \n"
      ]
     },
     "metadata": {},
     "output_type": "display_data"
    }
   ],
   "source": [
    "t.test(df_march$Temperature, mu = 3.9, alternative = \"greater\", conf.level = 0.90)"
   ]
  },
  {
   "cell_type": "markdown",
   "id": "dutch-woman",
   "metadata": {},
   "source": [
    "On performing the hypothesis test, we can infer that the corrective action has to be taken since the temperature maintained\n",
    "in the cold storage is exceeding 3.9 C."
   ]
  }
 ],
 "metadata": {
  "kernelspec": {
   "display_name": "R",
   "language": "R",
   "name": "ir"
  },
  "language_info": {
   "codemirror_mode": "r",
   "file_extension": ".r",
   "mimetype": "text/x-r-source",
   "name": "R",
   "pygments_lexer": "r",
   "version": "3.6.1"
  }
 },
 "nbformat": 4,
 "nbformat_minor": 5
}
